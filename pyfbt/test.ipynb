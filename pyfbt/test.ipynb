{
 "metadata": {
  "language_info": {
   "codemirror_mode": {
    "name": "ipython",
    "version": 3
   },
   "file_extension": ".py",
   "mimetype": "text/x-python",
   "name": "python",
   "nbconvert_exporter": "python",
   "pygments_lexer": "ipython3",
   "version": "3.9.2"
  },
  "orig_nbformat": 2,
  "kernelspec": {
   "name": "python392jvsc74a57bd0b2f1a1b31e767abdc7cc35ac18f41ff2a01a224e64c30ab2430098fb64e3efae",
   "display_name": "Python 3.9.2 64-bit ('fbtpoint': conda)"
  },
  "metadata": {
   "interpreter": {
    "hash": "b2f1a1b31e767abdc7cc35ac18f41ff2a01a224e64c30ab2430098fb64e3efae"
   }
  }
 },
 "nbformat": 4,
 "nbformat_minor": 2,
 "cells": [
  {
   "cell_type": "code",
   "execution_count": 1,
   "metadata": {},
   "outputs": [],
   "source": [
    "import numpy as np\n",
    "from matplotlib import pyplot as plt\n",
    "from orbits import Orbit\n",
    "from extras.enmax import find_en_max\n",
    "from extras.functions import en_search, plot_modes\n",
    "from extras.sep import find_slr"
   ]
  },
  {
   "cell_type": "code",
   "execution_count": 2,
   "metadata": {},
   "outputs": [],
   "source": [
    "# set params\n",
    "aa = 0.998\n",
    "slr = 7\n",
    "ecc = 0.3\n",
    "x = 1"
   ]
  },
  {
   "cell_type": "code",
   "execution_count": 3,
   "metadata": {},
   "outputs": [],
   "source": [
    "# mode params\n",
    "ell = 2\n",
    "em = 2\n",
    "kay = 0"
   ]
  },
  {
   "cell_type": "code",
   "execution_count": 4,
   "metadata": {},
   "outputs": [],
   "source": [
    "orbit = Orbit(aa, slr, ecc, x)"
   ]
  },
  {
   "cell_type": "code",
   "execution_count": 5,
   "metadata": {},
   "outputs": [
    {
     "output_type": "error",
     "ename": "AttributeError",
     "evalue": "'Orbit' object has no attribute 'nu'",
     "traceback": [
      "\u001b[0;31m---------------------------------------------------------------------------\u001b[0m",
      "\u001b[0;31mAttributeError\u001b[0m                            Traceback (most recent call last)",
      "\u001b[0;32m<ipython-input-5-1f7e3109d2b5>\u001b[0m in \u001b[0;36m<module>\u001b[0;34m\u001b[0m\n\u001b[0;32m----> 1\u001b[0;31m \u001b[0morbit\u001b[0m\u001b[0;34m.\u001b[0m\u001b[0mnu\u001b[0m\u001b[0;34m\u001b[0m\u001b[0;34m\u001b[0m\u001b[0m\n\u001b[0m",
      "\u001b[0;31mAttributeError\u001b[0m: 'Orbit' object has no attribute 'nu'"
     ]
    }
   ],
   "source": [
    "orbit.nu"
   ]
  },
  {
   "cell_type": "code",
   "execution_count": 7,
   "metadata": {},
   "outputs": [
    {
     "output_type": "execute_result",
     "data": {
      "text/plain": [
       "{'omega_r': 0.032902520185042985,\n",
       " 'omega_theta': 0.042267119815044336,\n",
       " 'omega_phi': 0.046036678210427534}"
      ]
     },
     "metadata": {},
     "execution_count": 7
    }
   ],
   "source": [
    "orbit.boyer_freqs"
   ]
  },
  {
   "cell_type": "code",
   "execution_count": 10,
   "metadata": {},
   "outputs": [
    {
     "output_type": "execute_result",
     "data": {
      "text/plain": [
       "3.3895936542300755"
      ]
     },
     "metadata": {},
     "execution_count": 10
    }
   ],
   "source": [
    "orbit.eigen"
   ]
  },
  {
   "cell_type": "code",
   "execution_count": 5,
   "metadata": {},
   "outputs": [
    {
     "output_type": "execute_result",
     "data": {
      "text/plain": [
       "6.460781332766089e-05"
      ]
     },
     "metadata": {},
     "execution_count": 5
    }
   ],
   "source": [
    "orbit.energy_inf(ell, em, en=0)"
   ]
  },
  {
   "cell_type": "code",
   "execution_count": null,
   "metadata": {},
   "outputs": [],
   "source": []
  }
 ]
}