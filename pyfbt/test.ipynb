{
 "metadata": {
  "language_info": {
   "codemirror_mode": {
    "name": "ipython",
    "version": 3
   },
   "file_extension": ".py",
   "mimetype": "text/x-python",
   "name": "python",
   "nbconvert_exporter": "python",
   "pygments_lexer": "ipython3",
   "version": "3.9.2"
  },
  "orig_nbformat": 2,
  "kernelspec": {
   "name": "python392jvsc74a57bd0b2f1a1b31e767abdc7cc35ac18f41ff2a01a224e64c30ab2430098fb64e3efae",
   "display_name": "Python 3.9.2 64-bit ('fbtpoint': conda)"
  },
  "metadata": {
   "interpreter": {
    "hash": "b2f1a1b31e767abdc7cc35ac18f41ff2a01a224e64c30ab2430098fb64e3efae"
   }
  }
 },
 "nbformat": 4,
 "nbformat_minor": 2,
 "cells": [
  {
   "cell_type": "code",
   "execution_count": 1,
   "metadata": {},
   "outputs": [],
   "source": [
    "import numpy as np\n",
    "from matplotlib import pyplot as plt\n",
    "from pyfbt.orbits import Orbit\n",
    "from extras.enmax import find_en_max\n",
    "from extras.functions import en_search, plot_modes\n",
    "from extras.sep import find_slr"
   ]
  },
  {
   "cell_type": "code",
   "execution_count": 2,
   "metadata": {},
   "outputs": [],
   "source": [
    "# set params\n",
    "aa = 0.998\n",
    "ecc = 0.7\n",
    "x = 1"
   ]
  },
  {
   "cell_type": "code",
   "execution_count": 3,
   "metadata": {},
   "outputs": [],
   "source": [
    "slr = find_slr(aa, ecc)\n",
    "eps = 0.25 * slr  # move away from the separatrix by 10% of the slr\n",
    "slr = slr + eps"
   ]
  },
  {
   "cell_type": "code",
   "execution_count": 4,
   "metadata": {},
   "outputs": [
    {
     "output_type": "stream",
     "name": "stdout",
     "text": [
      "2.3392265465664193\n"
     ]
    }
   ],
   "source": [
    "print(slr)"
   ]
  },
  {
   "cell_type": "code",
   "execution_count": 4,
   "metadata": {},
   "outputs": [],
   "source": [
    "# mode params\n",
    "ell = 2\n",
    "em = 2\n",
    "kay = 0"
   ]
  },
  {
   "cell_type": "code",
   "execution_count": 5,
   "metadata": {},
   "outputs": [
    {
     "output_type": "execute_result",
     "data": {
      "text/plain": [
       "10"
      ]
     },
     "metadata": {},
     "execution_count": 5
    }
   ],
   "source": [
    "find_en_max(aa, slr, ecc, x, em)"
   ]
  },
  {
   "cell_type": "code",
   "execution_count": 6,
   "metadata": {},
   "outputs": [],
   "source": [
    "orbit = Orbit(aa, slr, ecc, x)"
   ]
  },
  {
   "cell_type": "code",
   "execution_count": 7,
   "metadata": {},
   "outputs": [],
   "source": [
    "en_min = 0\n",
    "en_max = 15\n",
    "results = en_search(orbit, ell, em, en_min, en_max)"
   ]
  },
  {
   "cell_type": "code",
   "execution_count": null,
   "metadata": {},
   "outputs": [],
   "source": []
  }
 ]
}